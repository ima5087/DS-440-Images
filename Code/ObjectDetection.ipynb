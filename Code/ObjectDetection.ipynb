{
 "cells": [
  {
   "cell_type": "markdown",
   "id": "8d1297de",
   "metadata": {},
   "source": [
    "# Object Detection"
   ]
  },
  {
   "cell_type": "markdown",
   "id": "d8db20ac",
   "metadata": {},
   "source": [
    "# Author: Ian Arakkal"
   ]
  },
  {
   "cell_type": "markdown",
   "id": "3fc6880f",
   "metadata": {},
   "source": [
    "Code Adapted From: https://towardsdatascience.com/object-detection-with-tensorflow-model-and-opencv-d839f3e42849"
   ]
  },
  {
   "cell_type": "code",
   "execution_count": null,
   "id": "c6e2e35f",
   "metadata": {},
   "outputs": [],
   "source": [
    "from scipy.spatial import distance as dist\n",
    "import tensorflow_hub as hub\n",
    "import cv2\n",
    "import glob\n",
    "import numpy\n",
    "import pandas as pd\n",
    "import tensorflow as tf\n",
    "import matplotlib.pyplot as plt\n",
    "import matplotlib.image as mpimg\n",
    "import os"
   ]
  },
  {
   "cell_type": "code",
   "execution_count": null,
   "id": "42362419",
   "metadata": {},
   "outputs": [],
   "source": [
    "detector = hub.load(\"https://tfhub.dev/tensorflow/efficientdet/lite4/detection/1\")"
   ]
  },
  {
   "cell_type": "code",
   "execution_count": null,
   "id": "096a66ab",
   "metadata": {},
   "outputs": [],
   "source": [
    "labels = pd.read_csv('labels.csv', sep=';', index_col='ID')\n",
    "labels = labels['SUPER CATEGORY']\n",
    "\n",
    "def detect_objects(input_filepath, output_filepath, width=1028, height=1028, show=False):\n",
    "  # load data and preprocessing\n",
    "  img = cv2.imread(input_filepath)\n",
    "  if width is None or height == None:\n",
    "    inp = img\n",
    "  else:\n",
    "    inp = cv2.resize(img, (width, height))\n",
    "  rgb = cv2.cvtColor(inp, cv2.COLOR_BGR2RGB)\n",
    "  rgb_tensor = tf.convert_to_tensor(rgb, dtype = tf.uint8)\n",
    "  rgb_tensor = tf.expand_dims(rgb_tensor, 0)\n",
    "\n",
    "  # run model\n",
    "  boxes, scores, classes, num_detection = detector(rgb_tensor)\n",
    "\n",
    "  # post processing\n",
    "  pred_labels = classes.numpy().astype('int')[0] \n",
    "  pred_labels = [labels[i] for i in pred_labels]\n",
    "  pred_boxes = boxes.numpy()[0].astype('int')\n",
    "  pred_scores = scores.numpy()[0]\n",
    "\n",
    "  # draw boxes on the figure\n",
    "  output_image = rgb\n",
    "  for score, (ymin, xmin, ymax, xmax), label in zip(pred_scores, pred_boxes, pred_labels):\n",
    "    if score < 0.5:\n",
    "      continue\n",
    "\n",
    "    # draw box    \n",
    "    score_txt = f'{100 * round(score)}%'\n",
    "    output_image = cv2.rectangle(output_image, (xmin, ymax),(xmax, ymin),(0,255,0),2)\n",
    "\n",
    "    # put text\n",
    "    font = cv2.FONT_HERSHEY_SIMPLEX\n",
    "    output_image = cv2.putText(output_image, label, (xmin, ymax-10), font, 1.5, (255,0,0), 2, cv2.LINE_AA)\n",
    "    output_image = cv2.putText(output_image, score_txt, (xmax, ymax-10), font, 1.5, (255,0,0), 2, cv2.LINE_AA)\n",
    "      \n",
    "  # save figure to the specified path\n",
    "  cv2_output_image = cv2.cvtColor(output_image, cv2.COLOR_RGB2BGR)\n",
    "  cv2.imwrite(output_filepath, cv2_output_image)\n",
    "  \n",
    "  # show figure if \"show\" is true\n",
    "  if show:\n",
    "    plt.figure(figsize=(10,10))\n",
    "    plt.imshow(output_image)"
   ]
  },
  {
   "cell_type": "code",
   "execution_count": null,
   "id": "c97937c2",
   "metadata": {},
   "outputs": [],
   "source": [
    "# Running in batch mode\n",
    "input_folder = \"H:\\School\\Semester 14 (Fall 21)\\DS 440\\Testing\" #directory containing images\n",
    "filenames = os.listdir(input_folder)\n",
    "filenames = [filename for filename in filenames if filename.endswith(\".png\")] #if image type is not .jpg, replace with appropirate photo type\n",
    "print(filenames)"
   ]
  },
  {
   "cell_type": "code",
   "execution_count": null,
   "id": "e5b81897",
   "metadata": {},
   "outputs": [],
   "source": [
    "output_folder = \"H:\\School\\Semester 14 (Fall 21)\\DS 440\\TestProc\" #destination folder for images with object detected\n",
    "os.makedirs(output_folder, exist_ok=True)"
   ]
  },
  {
   "cell_type": "code",
   "execution_count": null,
   "id": "757f514e",
   "metadata": {},
   "outputs": [],
   "source": [
    "for index, filename in enumerate(filenames, 1):\n",
    "  print(\"Processing {} / {} - {}\".format(index, len(filenames), filename))\n",
    "  detect_objects(\n",
    "    input_filepath = os.path.join(input_folder, filename),\n",
    "    output_filepath = os.path.join(output_folder, filename),\n",
    "    show=False, # you can turn this on if needed  \n",
    "  )"
   ]
  }
 ],
 "metadata": {
  "kernelspec": {
   "display_name": "Python 3 (ipykernel)",
   "language": "python",
   "name": "python3"
  },
  "language_info": {
   "codemirror_mode": {
    "name": "ipython",
    "version": 3
   },
   "file_extension": ".py",
   "mimetype": "text/x-python",
   "name": "python",
   "nbconvert_exporter": "python",
   "pygments_lexer": "ipython3",
   "version": "3.9.7"
  }
 },
 "nbformat": 4,
 "nbformat_minor": 5
}
