{
 "cells": [
  {
   "cell_type": "markdown",
   "id": "829cf897",
   "metadata": {},
   "source": [
    "# Object Detection "
   ]
  },
  {
   "cell_type": "markdown",
   "id": "10d50dc8",
   "metadata": {},
   "source": [
    "# Author: Ian Arakkal"
   ]
  },
  {
   "cell_type": "markdown",
   "id": "331631a5",
   "metadata": {},
   "source": [
    "Code Adapted From: https://towardsdatascience.com/object-detection-with-tensorflow-model-and-opencv-d839f3e42849"
   ]
  },
  {
   "cell_type": "code",
   "execution_count": 1,
   "id": "fee9c1b4",
   "metadata": {
    "executionInfo": {
     "elapsed": 4576,
     "status": "ok",
     "timestamp": 1635625424019,
     "user": {
      "displayName": "Chieh-Yang Huang",
      "photoUrl": "https://lh3.googleusercontent.com/a-/AOh14Gi_TmbqvHLiffyc3B2b86bPECNY6yEry6JpJBmR4SY=s64",
      "userId": "08497712274324181042"
     },
     "user_tz": 240
    },
    "id": "fee9c1b4"
   },
   "outputs": [],
   "source": [
    "from scipy.spatial import distance as dist\n",
    "import tensorflow_hub as hub\n",
    "import cv2\n",
    "import glob\n",
    "import numpy\n",
    "import pandas as pd\n",
    "import tensorflow as tf\n",
    "import matplotlib.pyplot as plt\n",
    "import matplotlib.image as mpimg\n",
    "import os"
   ]
  },
  {
   "cell_type": "code",
   "execution_count": 3,
   "id": "b86d524c",
   "metadata": {
    "executionInfo": {
     "elapsed": 29579,
     "status": "ok",
     "timestamp": 1635625454911,
     "user": {
      "displayName": "Chieh-Yang Huang",
      "photoUrl": "https://lh3.googleusercontent.com/a-/AOh14Gi_TmbqvHLiffyc3B2b86bPECNY6yEry6JpJBmR4SY=s64",
      "userId": "08497712274324181042"
     },
     "user_tz": 240
    },
    "id": "b86d524c"
   },
   "outputs": [],
   "source": [
    "detector = hub.load(\"https://tfhub.dev/tensorflow/efficientdet/lite4/detection/1\")"
   ]
  },
  {
   "cell_type": "code",
   "execution_count": 4,
   "id": "7gW5UTIu0fM5",
   "metadata": {
    "executionInfo": {
     "elapsed": 173,
     "status": "ok",
     "timestamp": 1635626854047,
     "user": {
      "displayName": "Chieh-Yang Huang",
      "photoUrl": "https://lh3.googleusercontent.com/a-/AOh14Gi_TmbqvHLiffyc3B2b86bPECNY6yEry6JpJBmR4SY=s64",
      "userId": "08497712274324181042"
     },
     "user_tz": 240
    },
    "id": "7gW5UTIu0fM5"
   },
   "outputs": [],
   "source": [
    "labels = pd.read_csv('labels.csv', sep=';', index_col='ID')\n",
    "labels = labels['SUPER CATEGORY']\n",
    "\n",
    "def detect_objects(input_filepath, output_filepath, width=1028, height=1028, show=False):\n",
    "  # load data and preprocessing\n",
    "  img = cv2.imread(input_filepath)\n",
    "  if width is None or height == None:\n",
    "    inp = img\n",
    "  else:\n",
    "    inp = cv2.resize(img, (width, height))\n",
    "  rgb = cv2.cvtColor(inp, cv2.COLOR_BGR2RGB)\n",
    "  rgb_tensor = tf.convert_to_tensor(rgb, dtype = tf.uint8)\n",
    "  rgb_tensor = tf.expand_dims(rgb_tensor, 0)\n",
    "\n",
    "  # run model\n",
    "  boxes, scores, classes, num_detection = detector(rgb_tensor)\n",
    "\n",
    "  # post processing\n",
    "  pred_labels = classes.numpy().astype('int')[0] \n",
    "  pred_labels = [labels[i] for i in pred_labels]\n",
    "  pred_boxes = boxes.numpy()[0].astype('int')\n",
    "  pred_scores = scores.numpy()[0]\n",
    "\n",
    "  # draw boxes on the figure\n",
    "  output_image = rgb\n",
    "  for score, (ymin, xmin, ymax, xmax), label in zip(pred_scores, pred_boxes, pred_labels):\n",
    "    if score < 0.5:\n",
    "      continue\n",
    "\n",
    "    # draw box    \n",
    "    score_txt = f'{100 * round(score)}%'\n",
    "    output_image = cv2.rectangle(output_image, (xmin, ymax),(xmax, ymin),(0,255,0),2)\n",
    "\n",
    "    # put text\n",
    "    font = cv2.FONT_HERSHEY_SIMPLEX\n",
    "    output_image = cv2.putText(output_image, label, (xmin, ymax-10), font, 1.5, (255,0,0), 2, cv2.LINE_AA)\n",
    "    output_image = cv2.putText(output_image, score_txt, (xmax, ymax-10), font, 1.5, (255,0,0), 2, cv2.LINE_AA)\n",
    "      \n",
    "  # save figure to the specified path\n",
    "  cv2_output_image = cv2.cvtColor(output_image, cv2.COLOR_RGB2BGR)\n",
    "  cv2.imwrite(output_filepath, cv2_output_image)\n",
    "  \n",
    "  # show figure if \"show\" is true\n",
    "  if show:\n",
    "    plt.figure(figsize=(10,10))\n",
    "    plt.imshow(output_image)"
   ]
  },
  {
   "cell_type": "code",
   "execution_count": 8,
   "id": "HHZW76nc7J1Y",
   "metadata": {
    "colab": {
     "base_uri": "https://localhost:8080/"
    },
    "executionInfo": {
     "elapsed": 1433,
     "status": "ok",
     "timestamp": 1635626935672,
     "user": {
      "displayName": "Chieh-Yang Huang",
      "photoUrl": "https://lh3.googleusercontent.com/a-/AOh14Gi_TmbqvHLiffyc3B2b86bPECNY6yEry6JpJBmR4SY=s64",
      "userId": "08497712274324181042"
     },
     "user_tz": 240
    },
    "id": "HHZW76nc7J1Y",
    "outputId": "c74640cb-7909-4a8f-982f-c8d6337d748b"
   },
   "outputs": [
    {
     "name": "stdout",
     "output_type": "stream",
     "text": [
      "['IMG_8055.jpg', 'IMG_8058.jpg', 'IMG_8059.jpg', 'IMG_8060.jpg', 'IMG_8061.jpg', 'IMG_8062.jpg', 'IMG_8063.jpg', 'IMG_8064.jpg', 'IMG_8065.jpg', 'IMG_8066.jpg', 'IMG_8067.jpg', 'IMG_8068.jpg', 'IMG_8069.jpg', 'IMG_8070.jpg', 'IMG_8071.jpg', 'IMG_8072.jpg', 'IMG_8073.jpg', 'IMG_8074.jpg', 'IMG_8075.jpg', 'IMG_8076.jpg', 'IMG_8077.jpg', 'IMG_8079.jpg', 'IMG_8080.jpg', 'IMG_8081.jpg', 'IMG_8082.jpg', 'IMG_8084.jpg', 'IMG_8085.jpg', 'IMG_8086.jpg', 'IMG_8088.jpg', 'IMG_8089.jpg', 'IMG_8090.jpg', 'IMG_8091.jpg', 'IMG_8092.jpg', 'IMG_8093.jpg', 'IMG_8094.jpg', 'IMG_8095.jpg', 'IMG_8096.jpg', 'IMG_8111.jpg', 'IMG_8112.jpg', 'IMG_8113.jpg', 'IMG_8114.jpg', 'IMG_8115.jpg', 'IMG_8116.jpg', 'IMG_8117.jpg', 'IMG_8118.jpg', 'IMG_8119.jpg', 'IMG_8120.jpg', 'IMG_8121.jpg', 'IMG_8122.jpg', 'IMG_8123.jpg', 'IMG_8124.jpg', 'IMG_8125.jpg', 'IMG_8126.jpg', 'IMG_8127.jpg', 'IMG_8128.jpg', 'IMG_8129.jpg', 'IMG_8130.jpg', 'IMG_8131.jpg', 'IMG_8132.jpg', 'IMG_8133.jpg', 'IMG_8134.jpg', 'IMG_8135.jpg', 'IMG_8136.jpg', 'IMG_8137.jpg', 'IMG_8138.jpg', 'IMG_8139.jpg', 'IMG_8140.jpg', 'IMG_8141.jpg', 'IMG_8142.jpg', 'IMG_8143.jpg', 'IMG_8144.jpg', 'IMG_8145.jpg', 'IMG_8146.jpg', 'IMG_8147.jpg', 'IMG_8148.jpg', 'IMG_8149.jpg', 'IMG_8150.jpg', 'IMG_8151.jpg', 'IMG_8152.jpg', 'IMG_8153.jpg', 'IMG_8154.jpg', 'IMG_8155.jpg', 'IMG_8156.jpg', 'IMG_8157.jpg', 'IMG_8158.jpg', 'IMG_8159.jpg', 'IMG_8160.jpg', 'IMG_8161.jpg', 'IMG_8162.jpg', 'IMG_8163.jpg', 'IMG_8164.jpg', 'IMG_8165.jpg', 'IMG_8166.jpg', 'IMG_8167.jpg', 'IMG_8168.jpg', 'IMG_8169.jpg', 'IMG_8170.jpg', 'IMG_8171.jpg', 'IMG_8172.jpg', 'IMG_8173.jpg', 'IMG_8174.jpg', 'IMG_8175.jpg', 'IMG_8176.jpg', 'IMG_8177.jpg', 'IMG_8179.jpg', 'IMG_8180.jpg', 'IMG_8181.jpg', 'IMG_8184.jpg', 'IMG_8222.jpg', 'IMG_8223.jpg', 'IMG_8224.jpg', 'IMG_8225.jpg', 'IMG_8226.jpg', 'IMG_8227.jpg', 'IMG_8228.jpg', 'IMG_8229.jpg', 'IMG_8230.jpg', 'IMG_8231.jpg', 'IMG_8232.jpg', 'IMG_8233.jpg', 'IMG_8234.jpg', 'IMG_8235.jpg']\n",
      "Processing 1 / 122 - IMG_8055.jpg\n",
      "Processing 2 / 122 - IMG_8058.jpg\n",
      "Processing 3 / 122 - IMG_8059.jpg\n",
      "Processing 4 / 122 - IMG_8060.jpg\n",
      "Processing 5 / 122 - IMG_8061.jpg\n",
      "Processing 6 / 122 - IMG_8062.jpg\n",
      "Processing 7 / 122 - IMG_8063.jpg\n",
      "Processing 8 / 122 - IMG_8064.jpg\n",
      "Processing 9 / 122 - IMG_8065.jpg\n",
      "Processing 10 / 122 - IMG_8066.jpg\n",
      "Processing 11 / 122 - IMG_8067.jpg\n",
      "Processing 12 / 122 - IMG_8068.jpg\n",
      "Processing 13 / 122 - IMG_8069.jpg\n",
      "Processing 14 / 122 - IMG_8070.jpg\n",
      "Processing 15 / 122 - IMG_8071.jpg\n",
      "Processing 16 / 122 - IMG_8072.jpg\n",
      "Processing 17 / 122 - IMG_8073.jpg\n",
      "Processing 18 / 122 - IMG_8074.jpg\n",
      "Processing 19 / 122 - IMG_8075.jpg\n",
      "Processing 20 / 122 - IMG_8076.jpg\n",
      "Processing 21 / 122 - IMG_8077.jpg\n",
      "Processing 22 / 122 - IMG_8079.jpg\n",
      "Processing 23 / 122 - IMG_8080.jpg\n",
      "Processing 24 / 122 - IMG_8081.jpg\n",
      "Processing 25 / 122 - IMG_8082.jpg\n",
      "Processing 26 / 122 - IMG_8084.jpg\n",
      "Processing 27 / 122 - IMG_8085.jpg\n",
      "Processing 28 / 122 - IMG_8086.jpg\n",
      "Processing 29 / 122 - IMG_8088.jpg\n",
      "Processing 30 / 122 - IMG_8089.jpg\n",
      "Processing 31 / 122 - IMG_8090.jpg\n",
      "Processing 32 / 122 - IMG_8091.jpg\n",
      "Processing 33 / 122 - IMG_8092.jpg\n",
      "Processing 34 / 122 - IMG_8093.jpg\n",
      "Processing 35 / 122 - IMG_8094.jpg\n",
      "Processing 36 / 122 - IMG_8095.jpg\n",
      "Processing 37 / 122 - IMG_8096.jpg\n",
      "Processing 38 / 122 - IMG_8111.jpg\n",
      "Processing 39 / 122 - IMG_8112.jpg\n",
      "Processing 40 / 122 - IMG_8113.jpg\n",
      "Processing 41 / 122 - IMG_8114.jpg\n",
      "Processing 42 / 122 - IMG_8115.jpg\n",
      "Processing 43 / 122 - IMG_8116.jpg\n",
      "Processing 44 / 122 - IMG_8117.jpg\n",
      "Processing 45 / 122 - IMG_8118.jpg\n",
      "Processing 46 / 122 - IMG_8119.jpg\n",
      "Processing 47 / 122 - IMG_8120.jpg\n",
      "Processing 48 / 122 - IMG_8121.jpg\n",
      "Processing 49 / 122 - IMG_8122.jpg\n",
      "Processing 50 / 122 - IMG_8123.jpg\n",
      "Processing 51 / 122 - IMG_8124.jpg\n",
      "Processing 52 / 122 - IMG_8125.jpg\n",
      "Processing 53 / 122 - IMG_8126.jpg\n",
      "Processing 54 / 122 - IMG_8127.jpg\n",
      "Processing 55 / 122 - IMG_8128.jpg\n",
      "Processing 56 / 122 - IMG_8129.jpg\n",
      "Processing 57 / 122 - IMG_8130.jpg\n",
      "Processing 58 / 122 - IMG_8131.jpg\n",
      "Processing 59 / 122 - IMG_8132.jpg\n",
      "Processing 60 / 122 - IMG_8133.jpg\n",
      "Processing 61 / 122 - IMG_8134.jpg\n",
      "Processing 62 / 122 - IMG_8135.jpg\n",
      "Processing 63 / 122 - IMG_8136.jpg\n",
      "Processing 64 / 122 - IMG_8137.jpg\n",
      "Processing 65 / 122 - IMG_8138.jpg\n",
      "Processing 66 / 122 - IMG_8139.jpg\n",
      "Processing 67 / 122 - IMG_8140.jpg\n",
      "Processing 68 / 122 - IMG_8141.jpg\n",
      "Processing 69 / 122 - IMG_8142.jpg\n",
      "Processing 70 / 122 - IMG_8143.jpg\n",
      "Processing 71 / 122 - IMG_8144.jpg\n",
      "Processing 72 / 122 - IMG_8145.jpg\n",
      "Processing 73 / 122 - IMG_8146.jpg\n",
      "Processing 74 / 122 - IMG_8147.jpg\n",
      "Processing 75 / 122 - IMG_8148.jpg\n",
      "Processing 76 / 122 - IMG_8149.jpg\n",
      "Processing 77 / 122 - IMG_8150.jpg\n",
      "Processing 78 / 122 - IMG_8151.jpg\n",
      "Processing 79 / 122 - IMG_8152.jpg\n",
      "Processing 80 / 122 - IMG_8153.jpg\n",
      "Processing 81 / 122 - IMG_8154.jpg\n",
      "Processing 82 / 122 - IMG_8155.jpg\n",
      "Processing 83 / 122 - IMG_8156.jpg\n",
      "Processing 84 / 122 - IMG_8157.jpg\n",
      "Processing 85 / 122 - IMG_8158.jpg\n",
      "Processing 86 / 122 - IMG_8159.jpg\n",
      "Processing 87 / 122 - IMG_8160.jpg\n",
      "Processing 88 / 122 - IMG_8161.jpg\n",
      "Processing 89 / 122 - IMG_8162.jpg\n",
      "Processing 90 / 122 - IMG_8163.jpg\n",
      "Processing 91 / 122 - IMG_8164.jpg\n",
      "Processing 92 / 122 - IMG_8165.jpg\n",
      "Processing 93 / 122 - IMG_8166.jpg\n",
      "Processing 94 / 122 - IMG_8167.jpg\n",
      "Processing 95 / 122 - IMG_8168.jpg\n",
      "Processing 96 / 122 - IMG_8169.jpg\n",
      "Processing 97 / 122 - IMG_8170.jpg\n",
      "Processing 98 / 122 - IMG_8171.jpg\n",
      "Processing 99 / 122 - IMG_8172.jpg\n",
      "Processing 100 / 122 - IMG_8173.jpg\n",
      "Processing 101 / 122 - IMG_8174.jpg\n",
      "Processing 102 / 122 - IMG_8175.jpg\n",
      "Processing 103 / 122 - IMG_8176.jpg\n",
      "Processing 104 / 122 - IMG_8177.jpg\n",
      "Processing 105 / 122 - IMG_8179.jpg\n",
      "Processing 106 / 122 - IMG_8180.jpg\n",
      "Processing 107 / 122 - IMG_8181.jpg\n",
      "Processing 108 / 122 - IMG_8184.jpg\n",
      "Processing 109 / 122 - IMG_8222.jpg\n",
      "Processing 110 / 122 - IMG_8223.jpg\n",
      "Processing 111 / 122 - IMG_8224.jpg\n",
      "Processing 112 / 122 - IMG_8225.jpg\n",
      "Processing 113 / 122 - IMG_8226.jpg\n",
      "Processing 114 / 122 - IMG_8227.jpg\n",
      "Processing 115 / 122 - IMG_8228.jpg\n",
      "Processing 116 / 122 - IMG_8229.jpg\n",
      "Processing 117 / 122 - IMG_8230.jpg\n",
      "Processing 118 / 122 - IMG_8231.jpg\n",
      "Processing 119 / 122 - IMG_8232.jpg\n",
      "Processing 120 / 122 - IMG_8233.jpg\n",
      "Processing 121 / 122 - IMG_8234.jpg\n",
      "Processing 122 / 122 - IMG_8235.jpg\n"
     ]
    }
   ],
   "source": [
    "# Running in batch mode\n",
    "input_folder = \"H:\\School\\Semester 14 (Fall 21)\\DS 440\\Train\"\n",
    "filenames = os.listdir(input_folder)\n",
    "filenames = [filename for filename in filenames if filename.endswith(\".jpg\")]\n",
    "print(filenames)\n",
    "\n",
    "output_folder = \"H:\\School\\Semester 14 (Fall 21)\\DS 440\\TrainProc\"\n",
    "os.makedirs(output_folder, exist_ok=True)\n",
    "for index, filename in enumerate(filenames, 1):\n",
    "  print(\"Processing {} / {} - {}\".format(index, len(filenames), filename))\n",
    "  detect_objects(\n",
    "    input_filepath = os.path.join(input_folder, filename),\n",
    "    output_filepath = os.path.join(output_folder, filename),\n",
    "    show=False, # you can turn this on if needed  \n",
    "  )"
   ]
  }
 ],
 "metadata": {
  "colab": {
   "collapsed_sections": [],
   "name": "ObjectDetection.ipynb",
   "provenance": []
  },
  "kernelspec": {
   "display_name": "Python 3 (ipykernel)",
   "language": "python",
   "name": "python3"
  },
  "language_info": {
   "codemirror_mode": {
    "name": "ipython",
    "version": 3
   },
   "file_extension": ".py",
   "mimetype": "text/x-python",
   "name": "python",
   "nbconvert_exporter": "python",
   "pygments_lexer": "ipython3",
   "version": "3.9.7"
  }
 },
 "nbformat": 4,
 "nbformat_minor": 5
}
